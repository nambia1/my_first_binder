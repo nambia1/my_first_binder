{
 "cells": [
  {
   "cell_type": "markdown",
   "id": "45ef956f",
   "metadata": {},
   "source": [
    "# Homework 03 - Nonstandard Evaluation and Git\n",
    "\n",
    "## Nonstandard Evaluation\n"
   ]
  },
  {
   "cell_type": "markdown",
   "id": "7cd69759",
   "metadata": {
    "vscode": {
     "languageId": "r"
    }
   },
   "source": [
    "### Question 1\n",
    "Imagine we have a data frame called `data`, with a `type` column. Which one works and why?\\\n",
    "Function 1:\n",
    "```\n",
    "group_and_tally <- function(df, column){\n",
    "    df %>% group_by({{ column }}) %>% tally();\n",
    "}\n",
    "group_and_tally(data, type);\n",
    "```\n",
    "\n",
    "Function 2:\n",
    "```\n",
    "group_and_tally <- function(df, column){\n",
    "    df %>% group_by(column) %>% tally();\n",
    "}\n",
    "group_and_tally(data, type);\n",
    "```"
   ]
  },
  {
   "cell_type": "code",
   "execution_count": null,
   "id": "6a84f865-7d59-4162-81c1-3cd397b723e4",
   "metadata": {},
   "outputs": [],
   "source": [
    "Function 1 would work because the curly curly perenthesis help to group data by a column, \n",
    "meanwhile the (column) will group the data by a column named \"column\". Since there is no column with the name \"column\", \n",
    "the functin will not be able to be performed."
   ]
  },
  {
   "cell_type": "markdown",
   "id": "d0653501",
   "metadata": {},
   "source": [
    "## Git\n",
    "For the questions below, please add the commands you used to complete these steps.\n",
    "\n",
    "### Question 2\n",
    "Set up your git repo on your local computer. If you already make a git repo on GitHub, but it isn’t on your local computer - clone it."
   ]
  },
  {
   "cell_type": "code",
   "execution_count": null,
   "id": "08ac9d54-d535-4de9-86f2-88f9777b9f17",
   "metadata": {},
   "outputs": [],
   "source": [
    "git clone git@github.com:nambia1/my_first_binder.git"
   ]
  },
  {
   "cell_type": "markdown",
   "id": "9639ba6c",
   "metadata": {
    "vscode": {
     "languageId": "shellscript"
    }
   },
   "source": [
    "### Question 3\n",
    "Set up your SSH key."
   ]
  },
  {
   "cell_type": "code",
   "execution_count": null,
   "id": "be0d300a-f38c-4c68-a11f-383861fbe015",
   "metadata": {},
   "outputs": [],
   "source": [
    "ssh-keygen -t ed25519 -C \"nambia1\" -f ~/.ssh/github_key\n",
    "\n",
    "eval \"$(ssh-agent -s)\"\n",
    "ssh-add ~/.ssh/github_key\n",
    "\n",
    "cat ~/.ssh/github_key.pub"
   ]
  },
  {
   "cell_type": "markdown",
   "id": "57cf0a5f-38c7-4f0e-bc1e-a535947c2896",
   "metadata": {},
   "source": [
    "## Question 4\n",
    "a) Add a HW2 directory to your git repo through the terminal with a HW.md file that says \"This is for homework 2.\"\n"
   ]
  },
  {
   "cell_type": "markdown",
   "id": "d5ba0ab1-690d-4031-b561-debc3c38631c",
   "metadata": {},
   "source": [
    "mkdir HW2\n",
    "echo \"This is for Homework2.\" >HW2/HW2.md"
   ]
  },
  {
   "cell_type": "markdown",
   "id": "0a600019",
   "metadata": {},
   "source": [
    "b) *Add* HW2.md to the staging area. Then, use the command to see which files have been modified, staged for commit, or are untracked. What does it show?\n",
    "They should copy paste the terminal response after git status, and show that key used the commands below."
   ]
  },
  {
   "cell_type": "code",
   "execution_count": null,
   "id": "9e34346f-1c5b-4c37-b44a-9fbfa402a220",
   "metadata": {},
   "outputs": [],
   "source": [
    "git add HW2/HW2.md\n",
    "git status"
   ]
  },
  {
   "cell_type": "markdown",
   "id": "51a1c8a9",
   "metadata": {},
   "source": [
    "c) Save file changes to the main branch."
   ]
  },
  {
   "cell_type": "code",
   "execution_count": null,
   "id": "3e0bb353-1141-4cd9-bb62-5c797321ffee",
   "metadata": {},
   "outputs": [],
   "source": [
    "git commit -m \"Add HW folder and HW2.md file\"\n",
    "git push"
   ]
  },
  {
   "cell_type": "markdown",
   "id": "7ab5dd9a",
   "metadata": {},
   "source": [
    "d) Now, edit the HW2.md file to give it a title."
   ]
  },
  {
   "cell_type": "code",
   "execution_count": null,
   "id": "b8d1dfbc-58ab-4f1f-a178-cc563ab3e9a3",
   "metadata": {},
   "outputs": [],
   "source": [
    "ech0 \"#Homework2\" >> HW2/HW2.md"
   ]
  },
  {
   "cell_type": "markdown",
   "id": "dd391254",
   "metadata": {},
   "source": [
    "e) Use the command that compares current, unsaved changes to the main branch. What does it say?\\\n",
    "\\\n",
    "git diff \n",
    "\n",
    "f) Use the command that checks the status of the working directory and the staging area *again*. What does it say?\\\n",
    "\\\n",
    "git status\n",
    "\n",
    "g) Once again, add HW2.md to the staging area and save the file changes to the main branch. Then, get use the command that gives you project history and paste the output in your homework.\n",
    "\n",
    "git add HW2.HW2.md \n",
    "git commit -m \"Add title to HW2.md\"\n",
    "git log "
   ]
  },
  {
   "cell_type": "markdown",
   "id": "a19411e1",
   "metadata": {
    "jupyter": {
     "source_hidden": true
    }
   },
   "source": [
    "h) Do some searching... What `git` command will provide you documentation on other commands? Use that command to find documentation on `git log` and `git show`. What does `--since` mean in regards to `git log`? Copy and paste what is written in the documentation."
   ]
  },
  {
   "cell_type": "code",
   "execution_count": null,
   "id": "bd6b299c-79a1-456d-ba43-cd309676387b",
   "metadata": {},
   "outputs": [],
   "source": [
    "Changes to be committed:\n",
    "  (use \"git restore --staged <file>...\" to unstage)\n",
    "\tnew file:   HW2/patient_names.csv\n",
    "\tnew file:   HW2/patient_properties.csv\n",
    "\n",
    "Untracked files:\n",
    "  (use \"git add <file>...\" to include in what will be committed)\n",
    "\t.DS_Store\n",
    "\tHW2/.DS_Store\n",
    "\n",
    "aditinambiar@mac my_first_binder % git commit \"HW 2 data sets\"\n",
    "error: pathspec 'HW 2 data sets' did not match any file(s) known to git\n",
    "aditinambiar@mac my_first_binder %   \n",
    "\n"
   ]
  },
  {
   "cell_type": "markdown",
   "id": "ba302ef2",
   "metadata": {},
   "source": [
    "## Tidyverse\n",
    "\n",
    "Note: Please make sure Binder is set up correctly to run this section. You can follow the instructions here: https://github.com/rjenki/BIOS512. "
   ]
  },
  {
   "cell_type": "markdown",
   "id": "78255223",
   "metadata": {},
   "source": [
    "**Please show your code for this section!** Before completing this section, please run the following."
   ]
  },
  {
   "cell_type": "code",
   "execution_count": 1,
   "id": "1f1bd613",
   "metadata": {
    "vscode": {
     "languageId": "r"
    }
   },
   "outputs": [
    {
     "name": "stderr",
     "output_type": "stream",
     "text": [
      "── \u001b[1mAttaching core tidyverse packages\u001b[22m ────────────────────────────────────────────────── tidyverse 2.0.0 ──\n",
      "\u001b[32m✔\u001b[39m \u001b[34mdplyr    \u001b[39m 1.1.4     \u001b[32m✔\u001b[39m \u001b[34mreadr    \u001b[39m 2.1.5\n",
      "\u001b[32m✔\u001b[39m \u001b[34mforcats  \u001b[39m 1.0.0     \u001b[32m✔\u001b[39m \u001b[34mstringr  \u001b[39m 1.5.1\n",
      "\u001b[32m✔\u001b[39m \u001b[34mggplot2  \u001b[39m 3.5.2     \u001b[32m✔\u001b[39m \u001b[34mtibble   \u001b[39m 3.3.0\n",
      "\u001b[32m✔\u001b[39m \u001b[34mlubridate\u001b[39m 1.9.4     \u001b[32m✔\u001b[39m \u001b[34mtidyr    \u001b[39m 1.3.1\n",
      "\u001b[32m✔\u001b[39m \u001b[34mpurrr    \u001b[39m 1.0.4     \n",
      "── \u001b[1mConflicts\u001b[22m ──────────────────────────────────────────────────────────────────── tidyverse_conflicts() ──\n",
      "\u001b[31m✖\u001b[39m \u001b[34mdplyr\u001b[39m::\u001b[32mfilter()\u001b[39m masks \u001b[34mstats\u001b[39m::filter()\n",
      "\u001b[31m✖\u001b[39m \u001b[34mdplyr\u001b[39m::\u001b[32mlag()\u001b[39m    masks \u001b[34mstats\u001b[39m::lag()\n",
      "\u001b[36mℹ\u001b[39m Use the conflicted package (\u001b[3m\u001b[34m<http://conflicted.r-lib.org/>\u001b[39m\u001b[23m) to force all conflicts to become errors\n"
     ]
    }
   ],
   "source": [
    "library(tidyverse)\n",
    "if (!dir.exists(\"intermediate\")) dir.create(\"intermediate\", recursive = TRUE)\n",
    "if (!exists(\"mdpre\")) mdpre <- function(x) { print(x) }\n",
    "if (!exists(\"ggmd\"))  ggmd  <- function(p) { print(p) }"
   ]
  },
  {
   "cell_type": "markdown",
   "id": "7a5eb54a",
   "metadata": {},
   "source": [
    "### Question 5\n",
    "\n",
    "Download the patient_names.csv and patient_properties.csv files from Canvas and read them into R. Manually set the date columns to be date variables. Print the first 10 observations of each."
   ]
  },
  {
   "cell_type": "code",
   "execution_count": 7,
   "id": "c598c252-667c-454e-94d0-a2ba08228153",
   "metadata": {},
   "outputs": [
    {
     "name": "stderr",
     "output_type": "stream",
     "text": [
      "\u001b[1mRows: \u001b[22m\u001b[34m974\u001b[39m \u001b[1mColumns: \u001b[22m\u001b[34m7\u001b[39m\n",
      "\u001b[36m──\u001b[39m \u001b[1mColumn specification\u001b[22m \u001b[36m──────────────────────────────────────────────────────────────────────────────────\u001b[39m\n",
      "\u001b[1mDelimiter:\u001b[22m \",\"\n",
      "\u001b[31mchr\u001b[39m (7): ID, BIRTHDATE, DEATHDATE, FIRST, LAST, CITY, STATE\n",
      "\n",
      "\u001b[36mℹ\u001b[39m Use `spec()` to retrieve the full column specification for this data.\n",
      "\u001b[36mℹ\u001b[39m Specify the column types or set `show_col_types = FALSE` to quiet this message.\n",
      "\u001b[1mRows: \u001b[22m\u001b[34m3896\u001b[39m \u001b[1mColumns: \u001b[22m\u001b[34m3\u001b[39m\n",
      "\u001b[36m──\u001b[39m \u001b[1mColumn specification\u001b[22m \u001b[36m──────────────────────────────────────────────────────────────────────────────────\u001b[39m\n",
      "\u001b[1mDelimiter:\u001b[22m \",\"\n",
      "\u001b[31mchr\u001b[39m (3): ID, property, value\n",
      "\n",
      "\u001b[36mℹ\u001b[39m Use `spec()` to retrieve the full column specification for this data.\n",
      "\u001b[36mℹ\u001b[39m Specify the column types or set `show_col_types = FALSE` to quiet this message.\n"
     ]
    }
   ],
   "source": [
    "patient_names <- read_csv(\"HW2/patient_names.csv\")\n",
    "patient_properties <- read_csv(\"HW2/patient_properties.csv\")"
   ]
  },
  {
   "cell_type": "code",
   "execution_count": 8,
   "id": "c759c320-f73c-4305-ad53-e2f11bb673be",
   "metadata": {},
   "outputs": [],
   "source": [
    "patient_names$BIRTHDATE <- as.Date(patient_names$BIRTHDATE, format=\"%m/%d/%Y\")\n",
    "patient_names$DEATHDATE <- as.Date(patient_names$DEATHDATE, format=\"%m/%d/%Y\")"
   ]
  },
  {
   "cell_type": "code",
   "execution_count": 9,
   "id": "dda95531-de60-4617-b654-c939c6bdb3cf",
   "metadata": {},
   "outputs": [
    {
     "data": {
      "text/html": [
       "<table class=\"dataframe\">\n",
       "<caption>A tibble: 10 × 7</caption>\n",
       "<thead>\n",
       "\t<tr><th scope=col>ID</th><th scope=col>BIRTHDATE</th><th scope=col>DEATHDATE</th><th scope=col>FIRST</th><th scope=col>LAST</th><th scope=col>CITY</th><th scope=col>STATE</th></tr>\n",
       "\t<tr><th scope=col>&lt;chr&gt;</th><th scope=col>&lt;date&gt;</th><th scope=col>&lt;date&gt;</th><th scope=col>&lt;chr&gt;</th><th scope=col>&lt;chr&gt;</th><th scope=col>&lt;chr&gt;</th><th scope=col>&lt;chr&gt;</th></tr>\n",
       "</thead>\n",
       "<tbody>\n",
       "\t<tr><td>5605b66b-e92d-c16c-1b83-b8bf7040d51f</td><td>77-03-19</td><td>NA</td><td>Nikita578 </td><td>Erdman779     </td><td>Quincy   </td><td>Massachusetts</td></tr>\n",
       "\t<tr><td>6e5ae27c-8038-7988-e2c0-25a103f01bfa</td><td>40-02-19</td><td>NA</td><td>Zane918   </td><td>Hodkiewicz467 </td><td>Boston   </td><td>Massachusetts</td></tr>\n",
       "\t<tr><td>8123d076-0886-9007-e956-d5864aa121a7</td><td>58-06-04</td><td>NA</td><td>Quinn173  </td><td>Marquardt819  </td><td>Quincy   </td><td>Massachusetts</td></tr>\n",
       "\t<tr><td>770518e4-6133-648e-60c9-071eb2f0e2ce</td><td>28-12-25</td><td>17-09-29</td><td>Abel832   </td><td>Smitham825    </td><td>Boston   </td><td>Massachusetts</td></tr>\n",
       "\t<tr><td>f96addf5-81b9-0aab-7855-d208d3d352c5</td><td>28-12-25</td><td>14-02-23</td><td>Edwin773  </td><td>Labadie908    </td><td>Boston   </td><td>Massachusetts</td></tr>\n",
       "\t<tr><td>8e9650d1-788a-78f9-4a28-d08f7f95354a</td><td>28-12-25</td><td>NA</td><td>Frankie174</td><td>Oberbrunner298</td><td>Boston   </td><td>Massachusetts</td></tr>\n",
       "\t<tr><td>183df435-4190-060e-8f8e-bf63c572b266</td><td>57-11-08</td><td>NA</td><td>Eilene124 </td><td>Walsh511      </td><td>Cambridge</td><td>Massachusetts</td></tr>\n",
       "\t<tr><td>720560d4-51da-c38c-ee90-c15935278df1</td><td>72-06-27</td><td>NA</td><td>Lowell343 </td><td>Price929      </td><td>Quincy   </td><td>Massachusetts</td></tr>\n",
       "\t<tr><td>217851b0-5f47-d376-18b9-0fe4ba77207e</td><td>54-03-06</td><td>NA</td><td>Adrian111 </td><td>Gleason633    </td><td>Boston   </td><td>Massachusetts</td></tr>\n",
       "\t<tr><td>ff331e5c-ab16-e218-f39a-63e11de1ed75</td><td>27-07-10</td><td>NA</td><td>Eugene421 </td><td>Abernathy524  </td><td>Boston   </td><td>Massachusetts</td></tr>\n",
       "</tbody>\n",
       "</table>\n"
      ],
      "text/latex": [
       "A tibble: 10 × 7\n",
       "\\begin{tabular}{lllllll}\n",
       " ID & BIRTHDATE & DEATHDATE & FIRST & LAST & CITY & STATE\\\\\n",
       " <chr> & <date> & <date> & <chr> & <chr> & <chr> & <chr>\\\\\n",
       "\\hline\n",
       "\t 5605b66b-e92d-c16c-1b83-b8bf7040d51f & 77-03-19 & NA & Nikita578  & Erdman779      & Quincy    & Massachusetts\\\\\n",
       "\t 6e5ae27c-8038-7988-e2c0-25a103f01bfa & 40-02-19 & NA & Zane918    & Hodkiewicz467  & Boston    & Massachusetts\\\\\n",
       "\t 8123d076-0886-9007-e956-d5864aa121a7 & 58-06-04 & NA & Quinn173   & Marquardt819   & Quincy    & Massachusetts\\\\\n",
       "\t 770518e4-6133-648e-60c9-071eb2f0e2ce & 28-12-25 & 17-09-29 & Abel832    & Smitham825     & Boston    & Massachusetts\\\\\n",
       "\t f96addf5-81b9-0aab-7855-d208d3d352c5 & 28-12-25 & 14-02-23 & Edwin773   & Labadie908     & Boston    & Massachusetts\\\\\n",
       "\t 8e9650d1-788a-78f9-4a28-d08f7f95354a & 28-12-25 & NA & Frankie174 & Oberbrunner298 & Boston    & Massachusetts\\\\\n",
       "\t 183df435-4190-060e-8f8e-bf63c572b266 & 57-11-08 & NA & Eilene124  & Walsh511       & Cambridge & Massachusetts\\\\\n",
       "\t 720560d4-51da-c38c-ee90-c15935278df1 & 72-06-27 & NA & Lowell343  & Price929       & Quincy    & Massachusetts\\\\\n",
       "\t 217851b0-5f47-d376-18b9-0fe4ba77207e & 54-03-06 & NA & Adrian111  & Gleason633     & Boston    & Massachusetts\\\\\n",
       "\t ff331e5c-ab16-e218-f39a-63e11de1ed75 & 27-07-10 & NA & Eugene421  & Abernathy524   & Boston    & Massachusetts\\\\\n",
       "\\end{tabular}\n"
      ],
      "text/markdown": [
       "\n",
       "A tibble: 10 × 7\n",
       "\n",
       "| ID &lt;chr&gt; | BIRTHDATE &lt;date&gt; | DEATHDATE &lt;date&gt; | FIRST &lt;chr&gt; | LAST &lt;chr&gt; | CITY &lt;chr&gt; | STATE &lt;chr&gt; |\n",
       "|---|---|---|---|---|---|---|\n",
       "| 5605b66b-e92d-c16c-1b83-b8bf7040d51f | 77-03-19 | NA | Nikita578  | Erdman779      | Quincy    | Massachusetts |\n",
       "| 6e5ae27c-8038-7988-e2c0-25a103f01bfa | 40-02-19 | NA | Zane918    | Hodkiewicz467  | Boston    | Massachusetts |\n",
       "| 8123d076-0886-9007-e956-d5864aa121a7 | 58-06-04 | NA | Quinn173   | Marquardt819   | Quincy    | Massachusetts |\n",
       "| 770518e4-6133-648e-60c9-071eb2f0e2ce | 28-12-25 | 17-09-29 | Abel832    | Smitham825     | Boston    | Massachusetts |\n",
       "| f96addf5-81b9-0aab-7855-d208d3d352c5 | 28-12-25 | 14-02-23 | Edwin773   | Labadie908     | Boston    | Massachusetts |\n",
       "| 8e9650d1-788a-78f9-4a28-d08f7f95354a | 28-12-25 | NA | Frankie174 | Oberbrunner298 | Boston    | Massachusetts |\n",
       "| 183df435-4190-060e-8f8e-bf63c572b266 | 57-11-08 | NA | Eilene124  | Walsh511       | Cambridge | Massachusetts |\n",
       "| 720560d4-51da-c38c-ee90-c15935278df1 | 72-06-27 | NA | Lowell343  | Price929       | Quincy    | Massachusetts |\n",
       "| 217851b0-5f47-d376-18b9-0fe4ba77207e | 54-03-06 | NA | Adrian111  | Gleason633     | Boston    | Massachusetts |\n",
       "| ff331e5c-ab16-e218-f39a-63e11de1ed75 | 27-07-10 | NA | Eugene421  | Abernathy524   | Boston    | Massachusetts |\n",
       "\n"
      ],
      "text/plain": [
       "   ID                                   BIRTHDATE DEATHDATE FIRST     \n",
       "1  5605b66b-e92d-c16c-1b83-b8bf7040d51f 77-03-19  <NA>      Nikita578 \n",
       "2  6e5ae27c-8038-7988-e2c0-25a103f01bfa 40-02-19  <NA>      Zane918   \n",
       "3  8123d076-0886-9007-e956-d5864aa121a7 58-06-04  <NA>      Quinn173  \n",
       "4  770518e4-6133-648e-60c9-071eb2f0e2ce 28-12-25  17-09-29  Abel832   \n",
       "5  f96addf5-81b9-0aab-7855-d208d3d352c5 28-12-25  14-02-23  Edwin773  \n",
       "6  8e9650d1-788a-78f9-4a28-d08f7f95354a 28-12-25  <NA>      Frankie174\n",
       "7  183df435-4190-060e-8f8e-bf63c572b266 57-11-08  <NA>      Eilene124 \n",
       "8  720560d4-51da-c38c-ee90-c15935278df1 72-06-27  <NA>      Lowell343 \n",
       "9  217851b0-5f47-d376-18b9-0fe4ba77207e 54-03-06  <NA>      Adrian111 \n",
       "10 ff331e5c-ab16-e218-f39a-63e11de1ed75 27-07-10  <NA>      Eugene421 \n",
       "   LAST           CITY      STATE        \n",
       "1  Erdman779      Quincy    Massachusetts\n",
       "2  Hodkiewicz467  Boston    Massachusetts\n",
       "3  Marquardt819   Quincy    Massachusetts\n",
       "4  Smitham825     Boston    Massachusetts\n",
       "5  Labadie908     Boston    Massachusetts\n",
       "6  Oberbrunner298 Boston    Massachusetts\n",
       "7  Walsh511       Cambridge Massachusetts\n",
       "8  Price929       Quincy    Massachusetts\n",
       "9  Gleason633     Boston    Massachusetts\n",
       "10 Abernathy524   Boston    Massachusetts"
      ]
     },
     "metadata": {},
     "output_type": "display_data"
    }
   ],
   "source": [
    "head(patient_names,10)"
   ]
  },
  {
   "cell_type": "markdown",
   "id": "cc6f646b",
   "metadata": {},
   "source": [
    "### Question 6\n",
    "In the data frame pulled from patient_properties, you'll notice that the data is long, not wide. Do a pivot to make the properties their own columns. Print the first 10 observations after you do so."
   ]
  },
  {
   "cell_type": "code",
   "execution_count": 10,
   "id": "40746cbd-2f47-4638-8bc5-f8cdb6797552",
   "metadata": {},
   "outputs": [
    {
     "name": "stdout",
     "output_type": "stream",
     "text": [
      "spc_tbl_ [3,896 × 3] (S3: spec_tbl_df/tbl_df/tbl/data.frame)\n",
      " $ ID      : chr [1:3896] \"5605b66b-e92d-c16c-1b83-b8bf7040d51f\" \"5605b66b-e92d-c16c-1b83-b8bf7040d51f\" \"5605b66b-e92d-c16c-1b83-b8bf7040d51f\" \"5605b66b-e92d-c16c-1b83-b8bf7040d51f\" ...\n",
      " $ property: chr [1:3896] \"MARITAL\" \"RACE\" \"ETHNICITY\" \"GENDER\" ...\n",
      " $ value   : chr [1:3896] \"M\" \"white\" \"nonhispanic\" \"F\" ...\n",
      " - attr(*, \"spec\")=\n",
      "  .. cols(\n",
      "  ..   ID = \u001b[31mcol_character()\u001b[39m,\n",
      "  ..   property = \u001b[31mcol_character()\u001b[39m,\n",
      "  ..   value = \u001b[31mcol_character()\u001b[39m\n",
      "  .. )\n",
      " - attr(*, \"problems\")=<externalptr> \n"
     ]
    },
    {
     "data": {
      "text/html": [
       "<table class=\"dataframe\">\n",
       "<caption>A tibble: 10 × 3</caption>\n",
       "<thead>\n",
       "\t<tr><th scope=col>ID</th><th scope=col>property</th><th scope=col>value</th></tr>\n",
       "\t<tr><th scope=col>&lt;chr&gt;</th><th scope=col>&lt;chr&gt;</th><th scope=col>&lt;chr&gt;</th></tr>\n",
       "</thead>\n",
       "<tbody>\n",
       "\t<tr><td>5605b66b-e92d-c16c-1b83-b8bf7040d51f</td><td>MARITAL  </td><td>M          </td></tr>\n",
       "\t<tr><td>5605b66b-e92d-c16c-1b83-b8bf7040d51f</td><td>RACE     </td><td>white      </td></tr>\n",
       "\t<tr><td>5605b66b-e92d-c16c-1b83-b8bf7040d51f</td><td>ETHNICITY</td><td>nonhispanic</td></tr>\n",
       "\t<tr><td>5605b66b-e92d-c16c-1b83-b8bf7040d51f</td><td>GENDER   </td><td>F          </td></tr>\n",
       "\t<tr><td>6e5ae27c-8038-7988-e2c0-25a103f01bfa</td><td>MARITAL  </td><td>M          </td></tr>\n",
       "\t<tr><td>6e5ae27c-8038-7988-e2c0-25a103f01bfa</td><td>RACE     </td><td>white      </td></tr>\n",
       "\t<tr><td>6e5ae27c-8038-7988-e2c0-25a103f01bfa</td><td>ETHNICITY</td><td>nonhispanic</td></tr>\n",
       "\t<tr><td>6e5ae27c-8038-7988-e2c0-25a103f01bfa</td><td>GENDER   </td><td>M          </td></tr>\n",
       "\t<tr><td>8123d076-0886-9007-e956-d5864aa121a7</td><td>MARITAL  </td><td>M          </td></tr>\n",
       "\t<tr><td>8123d076-0886-9007-e956-d5864aa121a7</td><td>RACE     </td><td>white      </td></tr>\n",
       "</tbody>\n",
       "</table>\n"
      ],
      "text/latex": [
       "A tibble: 10 × 3\n",
       "\\begin{tabular}{lll}\n",
       " ID & property & value\\\\\n",
       " <chr> & <chr> & <chr>\\\\\n",
       "\\hline\n",
       "\t 5605b66b-e92d-c16c-1b83-b8bf7040d51f & MARITAL   & M          \\\\\n",
       "\t 5605b66b-e92d-c16c-1b83-b8bf7040d51f & RACE      & white      \\\\\n",
       "\t 5605b66b-e92d-c16c-1b83-b8bf7040d51f & ETHNICITY & nonhispanic\\\\\n",
       "\t 5605b66b-e92d-c16c-1b83-b8bf7040d51f & GENDER    & F          \\\\\n",
       "\t 6e5ae27c-8038-7988-e2c0-25a103f01bfa & MARITAL   & M          \\\\\n",
       "\t 6e5ae27c-8038-7988-e2c0-25a103f01bfa & RACE      & white      \\\\\n",
       "\t 6e5ae27c-8038-7988-e2c0-25a103f01bfa & ETHNICITY & nonhispanic\\\\\n",
       "\t 6e5ae27c-8038-7988-e2c0-25a103f01bfa & GENDER    & M          \\\\\n",
       "\t 8123d076-0886-9007-e956-d5864aa121a7 & MARITAL   & M          \\\\\n",
       "\t 8123d076-0886-9007-e956-d5864aa121a7 & RACE      & white      \\\\\n",
       "\\end{tabular}\n"
      ],
      "text/markdown": [
       "\n",
       "A tibble: 10 × 3\n",
       "\n",
       "| ID &lt;chr&gt; | property &lt;chr&gt; | value &lt;chr&gt; |\n",
       "|---|---|---|\n",
       "| 5605b66b-e92d-c16c-1b83-b8bf7040d51f | MARITAL   | M           |\n",
       "| 5605b66b-e92d-c16c-1b83-b8bf7040d51f | RACE      | white       |\n",
       "| 5605b66b-e92d-c16c-1b83-b8bf7040d51f | ETHNICITY | nonhispanic |\n",
       "| 5605b66b-e92d-c16c-1b83-b8bf7040d51f | GENDER    | F           |\n",
       "| 6e5ae27c-8038-7988-e2c0-25a103f01bfa | MARITAL   | M           |\n",
       "| 6e5ae27c-8038-7988-e2c0-25a103f01bfa | RACE      | white       |\n",
       "| 6e5ae27c-8038-7988-e2c0-25a103f01bfa | ETHNICITY | nonhispanic |\n",
       "| 6e5ae27c-8038-7988-e2c0-25a103f01bfa | GENDER    | M           |\n",
       "| 8123d076-0886-9007-e956-d5864aa121a7 | MARITAL   | M           |\n",
       "| 8123d076-0886-9007-e956-d5864aa121a7 | RACE      | white       |\n",
       "\n"
      ],
      "text/plain": [
       "   ID                                   property  value      \n",
       "1  5605b66b-e92d-c16c-1b83-b8bf7040d51f MARITAL   M          \n",
       "2  5605b66b-e92d-c16c-1b83-b8bf7040d51f RACE      white      \n",
       "3  5605b66b-e92d-c16c-1b83-b8bf7040d51f ETHNICITY nonhispanic\n",
       "4  5605b66b-e92d-c16c-1b83-b8bf7040d51f GENDER    F          \n",
       "5  6e5ae27c-8038-7988-e2c0-25a103f01bfa MARITAL   M          \n",
       "6  6e5ae27c-8038-7988-e2c0-25a103f01bfa RACE      white      \n",
       "7  6e5ae27c-8038-7988-e2c0-25a103f01bfa ETHNICITY nonhispanic\n",
       "8  6e5ae27c-8038-7988-e2c0-25a103f01bfa GENDER    M          \n",
       "9  8123d076-0886-9007-e956-d5864aa121a7 MARITAL   M          \n",
       "10 8123d076-0886-9007-e956-d5864aa121a7 RACE      white      "
      ]
     },
     "metadata": {},
     "output_type": "display_data"
    }
   ],
   "source": [
    "str(patient_properties)\n",
    "head(patient_properties, 10)"
   ]
  },
  {
   "cell_type": "code",
   "execution_count": 11,
   "id": "341d148e-1bf3-4002-a5bb-16ad584515a4",
   "metadata": {},
   "outputs": [],
   "source": [
    "library(tidyr)\n",
    "\n",
    "patient_properties_wide <-patient_properties %>% \n",
    "    pivot_wider(\n",
    "        id_cols= ID,\n",
    "        names_from= property,\n",
    "        values_from= value\n",
    "        )"
   ]
  },
  {
   "cell_type": "code",
   "execution_count": 12,
   "id": "6fbbda73-28b6-4108-bd4c-ce50f52e2079",
   "metadata": {},
   "outputs": [
    {
     "data": {
      "text/html": [
       "<table class=\"dataframe\">\n",
       "<caption>A tibble: 10 × 5</caption>\n",
       "<thead>\n",
       "\t<tr><th scope=col>ID</th><th scope=col>MARITAL</th><th scope=col>RACE</th><th scope=col>ETHNICITY</th><th scope=col>GENDER</th></tr>\n",
       "\t<tr><th scope=col>&lt;chr&gt;</th><th scope=col>&lt;chr&gt;</th><th scope=col>&lt;chr&gt;</th><th scope=col>&lt;chr&gt;</th><th scope=col>&lt;chr&gt;</th></tr>\n",
       "</thead>\n",
       "<tbody>\n",
       "\t<tr><td>5605b66b-e92d-c16c-1b83-b8bf7040d51f</td><td>M</td><td>white </td><td>nonhispanic</td><td>F</td></tr>\n",
       "\t<tr><td>6e5ae27c-8038-7988-e2c0-25a103f01bfa</td><td>M</td><td>white </td><td>nonhispanic</td><td>M</td></tr>\n",
       "\t<tr><td>8123d076-0886-9007-e956-d5864aa121a7</td><td>M</td><td>white </td><td>nonhispanic</td><td>M</td></tr>\n",
       "\t<tr><td>770518e4-6133-648e-60c9-071eb2f0e2ce</td><td>M</td><td>white </td><td>hispanic   </td><td>M</td></tr>\n",
       "\t<tr><td>f96addf5-81b9-0aab-7855-d208d3d352c5</td><td>M</td><td>white </td><td>hispanic   </td><td>M</td></tr>\n",
       "\t<tr><td>8e9650d1-788a-78f9-4a28-d08f7f95354a</td><td>M</td><td>white </td><td>hispanic   </td><td>M</td></tr>\n",
       "\t<tr><td>183df435-4190-060e-8f8e-bf63c572b266</td><td>M</td><td>asian </td><td>nonhispanic</td><td>F</td></tr>\n",
       "\t<tr><td>720560d4-51da-c38c-ee90-c15935278df1</td><td>M</td><td>white </td><td>nonhispanic</td><td>M</td></tr>\n",
       "\t<tr><td>217851b0-5f47-d376-18b9-0fe4ba77207e</td><td>S</td><td>black </td><td>hispanic   </td><td>M</td></tr>\n",
       "\t<tr><td>ff331e5c-ab16-e218-f39a-63e11de1ed75</td><td>M</td><td>native</td><td>hispanic   </td><td>M</td></tr>\n",
       "</tbody>\n",
       "</table>\n"
      ],
      "text/latex": [
       "A tibble: 10 × 5\n",
       "\\begin{tabular}{lllll}\n",
       " ID & MARITAL & RACE & ETHNICITY & GENDER\\\\\n",
       " <chr> & <chr> & <chr> & <chr> & <chr>\\\\\n",
       "\\hline\n",
       "\t 5605b66b-e92d-c16c-1b83-b8bf7040d51f & M & white  & nonhispanic & F\\\\\n",
       "\t 6e5ae27c-8038-7988-e2c0-25a103f01bfa & M & white  & nonhispanic & M\\\\\n",
       "\t 8123d076-0886-9007-e956-d5864aa121a7 & M & white  & nonhispanic & M\\\\\n",
       "\t 770518e4-6133-648e-60c9-071eb2f0e2ce & M & white  & hispanic    & M\\\\\n",
       "\t f96addf5-81b9-0aab-7855-d208d3d352c5 & M & white  & hispanic    & M\\\\\n",
       "\t 8e9650d1-788a-78f9-4a28-d08f7f95354a & M & white  & hispanic    & M\\\\\n",
       "\t 183df435-4190-060e-8f8e-bf63c572b266 & M & asian  & nonhispanic & F\\\\\n",
       "\t 720560d4-51da-c38c-ee90-c15935278df1 & M & white  & nonhispanic & M\\\\\n",
       "\t 217851b0-5f47-d376-18b9-0fe4ba77207e & S & black  & hispanic    & M\\\\\n",
       "\t ff331e5c-ab16-e218-f39a-63e11de1ed75 & M & native & hispanic    & M\\\\\n",
       "\\end{tabular}\n"
      ],
      "text/markdown": [
       "\n",
       "A tibble: 10 × 5\n",
       "\n",
       "| ID &lt;chr&gt; | MARITAL &lt;chr&gt; | RACE &lt;chr&gt; | ETHNICITY &lt;chr&gt; | GENDER &lt;chr&gt; |\n",
       "|---|---|---|---|---|\n",
       "| 5605b66b-e92d-c16c-1b83-b8bf7040d51f | M | white  | nonhispanic | F |\n",
       "| 6e5ae27c-8038-7988-e2c0-25a103f01bfa | M | white  | nonhispanic | M |\n",
       "| 8123d076-0886-9007-e956-d5864aa121a7 | M | white  | nonhispanic | M |\n",
       "| 770518e4-6133-648e-60c9-071eb2f0e2ce | M | white  | hispanic    | M |\n",
       "| f96addf5-81b9-0aab-7855-d208d3d352c5 | M | white  | hispanic    | M |\n",
       "| 8e9650d1-788a-78f9-4a28-d08f7f95354a | M | white  | hispanic    | M |\n",
       "| 183df435-4190-060e-8f8e-bf63c572b266 | M | asian  | nonhispanic | F |\n",
       "| 720560d4-51da-c38c-ee90-c15935278df1 | M | white  | nonhispanic | M |\n",
       "| 217851b0-5f47-d376-18b9-0fe4ba77207e | S | black  | hispanic    | M |\n",
       "| ff331e5c-ab16-e218-f39a-63e11de1ed75 | M | native | hispanic    | M |\n",
       "\n"
      ],
      "text/plain": [
       "   ID                                   MARITAL RACE   ETHNICITY   GENDER\n",
       "1  5605b66b-e92d-c16c-1b83-b8bf7040d51f M       white  nonhispanic F     \n",
       "2  6e5ae27c-8038-7988-e2c0-25a103f01bfa M       white  nonhispanic M     \n",
       "3  8123d076-0886-9007-e956-d5864aa121a7 M       white  nonhispanic M     \n",
       "4  770518e4-6133-648e-60c9-071eb2f0e2ce M       white  hispanic    M     \n",
       "5  f96addf5-81b9-0aab-7855-d208d3d352c5 M       white  hispanic    M     \n",
       "6  8e9650d1-788a-78f9-4a28-d08f7f95354a M       white  hispanic    M     \n",
       "7  183df435-4190-060e-8f8e-bf63c572b266 M       asian  nonhispanic F     \n",
       "8  720560d4-51da-c38c-ee90-c15935278df1 M       white  nonhispanic M     \n",
       "9  217851b0-5f47-d376-18b9-0fe4ba77207e S       black  hispanic    M     \n",
       "10 ff331e5c-ab16-e218-f39a-63e11de1ed75 M       native hispanic    M     "
      ]
     },
     "metadata": {},
     "output_type": "display_data"
    }
   ],
   "source": [
    "head (patient_properties_wide, 10)"
   ]
  },
  {
   "cell_type": "markdown",
   "id": "dffb85c3",
   "metadata": {},
   "source": [
    "### Question 7\n",
    "Perform a left join of the names and properties_wide data frames by the ID column and print the first 10 rows."
   ]
  },
  {
   "cell_type": "code",
   "execution_count": 13,
   "id": "1beb6135-2695-4a96-9e86-eaa6c8417c8e",
   "metadata": {},
   "outputs": [
    {
     "data": {
      "text/html": [
       "<table class=\"dataframe\">\n",
       "<caption>A tibble: 10 × 11</caption>\n",
       "<thead>\n",
       "\t<tr><th scope=col>ID</th><th scope=col>BIRTHDATE</th><th scope=col>DEATHDATE</th><th scope=col>FIRST</th><th scope=col>LAST</th><th scope=col>CITY</th><th scope=col>STATE</th><th scope=col>MARITAL</th><th scope=col>RACE</th><th scope=col>ETHNICITY</th><th scope=col>GENDER</th></tr>\n",
       "\t<tr><th scope=col>&lt;chr&gt;</th><th scope=col>&lt;date&gt;</th><th scope=col>&lt;date&gt;</th><th scope=col>&lt;chr&gt;</th><th scope=col>&lt;chr&gt;</th><th scope=col>&lt;chr&gt;</th><th scope=col>&lt;chr&gt;</th><th scope=col>&lt;chr&gt;</th><th scope=col>&lt;chr&gt;</th><th scope=col>&lt;chr&gt;</th><th scope=col>&lt;chr&gt;</th></tr>\n",
       "</thead>\n",
       "<tbody>\n",
       "\t<tr><td>5605b66b-e92d-c16c-1b83-b8bf7040d51f</td><td>77-03-19</td><td>NA</td><td>Nikita578 </td><td>Erdman779     </td><td>Quincy   </td><td>Massachusetts</td><td>M</td><td>white </td><td>nonhispanic</td><td>F</td></tr>\n",
       "\t<tr><td>6e5ae27c-8038-7988-e2c0-25a103f01bfa</td><td>40-02-19</td><td>NA</td><td>Zane918   </td><td>Hodkiewicz467 </td><td>Boston   </td><td>Massachusetts</td><td>M</td><td>white </td><td>nonhispanic</td><td>M</td></tr>\n",
       "\t<tr><td>8123d076-0886-9007-e956-d5864aa121a7</td><td>58-06-04</td><td>NA</td><td>Quinn173  </td><td>Marquardt819  </td><td>Quincy   </td><td>Massachusetts</td><td>M</td><td>white </td><td>nonhispanic</td><td>M</td></tr>\n",
       "\t<tr><td>770518e4-6133-648e-60c9-071eb2f0e2ce</td><td>28-12-25</td><td>17-09-29</td><td>Abel832   </td><td>Smitham825    </td><td>Boston   </td><td>Massachusetts</td><td>M</td><td>white </td><td>hispanic   </td><td>M</td></tr>\n",
       "\t<tr><td>f96addf5-81b9-0aab-7855-d208d3d352c5</td><td>28-12-25</td><td>14-02-23</td><td>Edwin773  </td><td>Labadie908    </td><td>Boston   </td><td>Massachusetts</td><td>M</td><td>white </td><td>hispanic   </td><td>M</td></tr>\n",
       "\t<tr><td>8e9650d1-788a-78f9-4a28-d08f7f95354a</td><td>28-12-25</td><td>NA</td><td>Frankie174</td><td>Oberbrunner298</td><td>Boston   </td><td>Massachusetts</td><td>M</td><td>white </td><td>hispanic   </td><td>M</td></tr>\n",
       "\t<tr><td>183df435-4190-060e-8f8e-bf63c572b266</td><td>57-11-08</td><td>NA</td><td>Eilene124 </td><td>Walsh511      </td><td>Cambridge</td><td>Massachusetts</td><td>M</td><td>asian </td><td>nonhispanic</td><td>F</td></tr>\n",
       "\t<tr><td>720560d4-51da-c38c-ee90-c15935278df1</td><td>72-06-27</td><td>NA</td><td>Lowell343 </td><td>Price929      </td><td>Quincy   </td><td>Massachusetts</td><td>M</td><td>white </td><td>nonhispanic</td><td>M</td></tr>\n",
       "\t<tr><td>217851b0-5f47-d376-18b9-0fe4ba77207e</td><td>54-03-06</td><td>NA</td><td>Adrian111 </td><td>Gleason633    </td><td>Boston   </td><td>Massachusetts</td><td>S</td><td>black </td><td>hispanic   </td><td>M</td></tr>\n",
       "\t<tr><td>ff331e5c-ab16-e218-f39a-63e11de1ed75</td><td>27-07-10</td><td>NA</td><td>Eugene421 </td><td>Abernathy524  </td><td>Boston   </td><td>Massachusetts</td><td>M</td><td>native</td><td>hispanic   </td><td>M</td></tr>\n",
       "</tbody>\n",
       "</table>\n"
      ],
      "text/latex": [
       "A tibble: 10 × 11\n",
       "\\begin{tabular}{lllllllllll}\n",
       " ID & BIRTHDATE & DEATHDATE & FIRST & LAST & CITY & STATE & MARITAL & RACE & ETHNICITY & GENDER\\\\\n",
       " <chr> & <date> & <date> & <chr> & <chr> & <chr> & <chr> & <chr> & <chr> & <chr> & <chr>\\\\\n",
       "\\hline\n",
       "\t 5605b66b-e92d-c16c-1b83-b8bf7040d51f & 77-03-19 & NA & Nikita578  & Erdman779      & Quincy    & Massachusetts & M & white  & nonhispanic & F\\\\\n",
       "\t 6e5ae27c-8038-7988-e2c0-25a103f01bfa & 40-02-19 & NA & Zane918    & Hodkiewicz467  & Boston    & Massachusetts & M & white  & nonhispanic & M\\\\\n",
       "\t 8123d076-0886-9007-e956-d5864aa121a7 & 58-06-04 & NA & Quinn173   & Marquardt819   & Quincy    & Massachusetts & M & white  & nonhispanic & M\\\\\n",
       "\t 770518e4-6133-648e-60c9-071eb2f0e2ce & 28-12-25 & 17-09-29 & Abel832    & Smitham825     & Boston    & Massachusetts & M & white  & hispanic    & M\\\\\n",
       "\t f96addf5-81b9-0aab-7855-d208d3d352c5 & 28-12-25 & 14-02-23 & Edwin773   & Labadie908     & Boston    & Massachusetts & M & white  & hispanic    & M\\\\\n",
       "\t 8e9650d1-788a-78f9-4a28-d08f7f95354a & 28-12-25 & NA & Frankie174 & Oberbrunner298 & Boston    & Massachusetts & M & white  & hispanic    & M\\\\\n",
       "\t 183df435-4190-060e-8f8e-bf63c572b266 & 57-11-08 & NA & Eilene124  & Walsh511       & Cambridge & Massachusetts & M & asian  & nonhispanic & F\\\\\n",
       "\t 720560d4-51da-c38c-ee90-c15935278df1 & 72-06-27 & NA & Lowell343  & Price929       & Quincy    & Massachusetts & M & white  & nonhispanic & M\\\\\n",
       "\t 217851b0-5f47-d376-18b9-0fe4ba77207e & 54-03-06 & NA & Adrian111  & Gleason633     & Boston    & Massachusetts & S & black  & hispanic    & M\\\\\n",
       "\t ff331e5c-ab16-e218-f39a-63e11de1ed75 & 27-07-10 & NA & Eugene421  & Abernathy524   & Boston    & Massachusetts & M & native & hispanic    & M\\\\\n",
       "\\end{tabular}\n"
      ],
      "text/markdown": [
       "\n",
       "A tibble: 10 × 11\n",
       "\n",
       "| ID &lt;chr&gt; | BIRTHDATE &lt;date&gt; | DEATHDATE &lt;date&gt; | FIRST &lt;chr&gt; | LAST &lt;chr&gt; | CITY &lt;chr&gt; | STATE &lt;chr&gt; | MARITAL &lt;chr&gt; | RACE &lt;chr&gt; | ETHNICITY &lt;chr&gt; | GENDER &lt;chr&gt; |\n",
       "|---|---|---|---|---|---|---|---|---|---|---|\n",
       "| 5605b66b-e92d-c16c-1b83-b8bf7040d51f | 77-03-19 | NA | Nikita578  | Erdman779      | Quincy    | Massachusetts | M | white  | nonhispanic | F |\n",
       "| 6e5ae27c-8038-7988-e2c0-25a103f01bfa | 40-02-19 | NA | Zane918    | Hodkiewicz467  | Boston    | Massachusetts | M | white  | nonhispanic | M |\n",
       "| 8123d076-0886-9007-e956-d5864aa121a7 | 58-06-04 | NA | Quinn173   | Marquardt819   | Quincy    | Massachusetts | M | white  | nonhispanic | M |\n",
       "| 770518e4-6133-648e-60c9-071eb2f0e2ce | 28-12-25 | 17-09-29 | Abel832    | Smitham825     | Boston    | Massachusetts | M | white  | hispanic    | M |\n",
       "| f96addf5-81b9-0aab-7855-d208d3d352c5 | 28-12-25 | 14-02-23 | Edwin773   | Labadie908     | Boston    | Massachusetts | M | white  | hispanic    | M |\n",
       "| 8e9650d1-788a-78f9-4a28-d08f7f95354a | 28-12-25 | NA | Frankie174 | Oberbrunner298 | Boston    | Massachusetts | M | white  | hispanic    | M |\n",
       "| 183df435-4190-060e-8f8e-bf63c572b266 | 57-11-08 | NA | Eilene124  | Walsh511       | Cambridge | Massachusetts | M | asian  | nonhispanic | F |\n",
       "| 720560d4-51da-c38c-ee90-c15935278df1 | 72-06-27 | NA | Lowell343  | Price929       | Quincy    | Massachusetts | M | white  | nonhispanic | M |\n",
       "| 217851b0-5f47-d376-18b9-0fe4ba77207e | 54-03-06 | NA | Adrian111  | Gleason633     | Boston    | Massachusetts | S | black  | hispanic    | M |\n",
       "| ff331e5c-ab16-e218-f39a-63e11de1ed75 | 27-07-10 | NA | Eugene421  | Abernathy524   | Boston    | Massachusetts | M | native | hispanic    | M |\n",
       "\n"
      ],
      "text/plain": [
       "   ID                                   BIRTHDATE DEATHDATE FIRST     \n",
       "1  5605b66b-e92d-c16c-1b83-b8bf7040d51f 77-03-19  <NA>      Nikita578 \n",
       "2  6e5ae27c-8038-7988-e2c0-25a103f01bfa 40-02-19  <NA>      Zane918   \n",
       "3  8123d076-0886-9007-e956-d5864aa121a7 58-06-04  <NA>      Quinn173  \n",
       "4  770518e4-6133-648e-60c9-071eb2f0e2ce 28-12-25  17-09-29  Abel832   \n",
       "5  f96addf5-81b9-0aab-7855-d208d3d352c5 28-12-25  14-02-23  Edwin773  \n",
       "6  8e9650d1-788a-78f9-4a28-d08f7f95354a 28-12-25  <NA>      Frankie174\n",
       "7  183df435-4190-060e-8f8e-bf63c572b266 57-11-08  <NA>      Eilene124 \n",
       "8  720560d4-51da-c38c-ee90-c15935278df1 72-06-27  <NA>      Lowell343 \n",
       "9  217851b0-5f47-d376-18b9-0fe4ba77207e 54-03-06  <NA>      Adrian111 \n",
       "10 ff331e5c-ab16-e218-f39a-63e11de1ed75 27-07-10  <NA>      Eugene421 \n",
       "   LAST           CITY      STATE         MARITAL RACE   ETHNICITY   GENDER\n",
       "1  Erdman779      Quincy    Massachusetts M       white  nonhispanic F     \n",
       "2  Hodkiewicz467  Boston    Massachusetts M       white  nonhispanic M     \n",
       "3  Marquardt819   Quincy    Massachusetts M       white  nonhispanic M     \n",
       "4  Smitham825     Boston    Massachusetts M       white  hispanic    M     \n",
       "5  Labadie908     Boston    Massachusetts M       white  hispanic    M     \n",
       "6  Oberbrunner298 Boston    Massachusetts M       white  hispanic    M     \n",
       "7  Walsh511       Cambridge Massachusetts M       asian  nonhispanic F     \n",
       "8  Price929       Quincy    Massachusetts M       white  nonhispanic M     \n",
       "9  Gleason633     Boston    Massachusetts S       black  hispanic    M     \n",
       "10 Abernathy524   Boston    Massachusetts M       native hispanic    M     "
      ]
     },
     "metadata": {},
     "output_type": "display_data"
    }
   ],
   "source": [
    "patients <- left_join(patient_names, patient_properties_wide, by = \"ID\")\n",
    "head(patients, 10)"
   ]
  },
  {
   "cell_type": "markdown",
   "id": "5f82272f",
   "metadata": {},
   "source": [
    "### Question 8\n",
    "Notice something interesting about the names in our data set. Fix the name formatting and print the first 10 observations."
   ]
  },
  {
   "cell_type": "code",
   "execution_count": 14,
   "id": "17ec7aa5-e6f3-4bd2-971d-de4bd623b0aa",
   "metadata": {},
   "outputs": [],
   "source": [
    "library (dplyr)\n",
    "library (stringr)\n",
    "\n",
    "patients <- patients %>%\n",
    "    mutate(\n",
    "        FIRST =str_trim(FIRST),\n",
    "        LAST =str_trim(LAST),\n",
    "\n",
    "        FIRST =str_remove(FIRST, \"\\\\d+$\"),\n",
    "        LAST =str_remove(LAST, \"\\\\d+$\"),\n",
    "\n",
    "        FIRST =str_to_title(FIRST),\n",
    "        LAST =str_to_title(LAST)\n",
    "        )  "
   ]
  },
  {
   "cell_type": "code",
   "execution_count": 15,
   "id": "1a7ead12-e101-42b4-821a-632c3265455b",
   "metadata": {},
   "outputs": [
    {
     "data": {
      "text/html": [
       "<table class=\"dataframe\">\n",
       "<caption>A tibble: 10 × 11</caption>\n",
       "<thead>\n",
       "\t<tr><th scope=col>ID</th><th scope=col>BIRTHDATE</th><th scope=col>DEATHDATE</th><th scope=col>FIRST</th><th scope=col>LAST</th><th scope=col>CITY</th><th scope=col>STATE</th><th scope=col>MARITAL</th><th scope=col>RACE</th><th scope=col>ETHNICITY</th><th scope=col>GENDER</th></tr>\n",
       "\t<tr><th scope=col>&lt;chr&gt;</th><th scope=col>&lt;date&gt;</th><th scope=col>&lt;date&gt;</th><th scope=col>&lt;chr&gt;</th><th scope=col>&lt;chr&gt;</th><th scope=col>&lt;chr&gt;</th><th scope=col>&lt;chr&gt;</th><th scope=col>&lt;chr&gt;</th><th scope=col>&lt;chr&gt;</th><th scope=col>&lt;chr&gt;</th><th scope=col>&lt;chr&gt;</th></tr>\n",
       "</thead>\n",
       "<tbody>\n",
       "\t<tr><td>5605b66b-e92d-c16c-1b83-b8bf7040d51f</td><td>77-03-19</td><td>NA</td><td>Nikita </td><td>Erdman     </td><td>Quincy   </td><td>Massachusetts</td><td>M</td><td>white </td><td>nonhispanic</td><td>F</td></tr>\n",
       "\t<tr><td>6e5ae27c-8038-7988-e2c0-25a103f01bfa</td><td>40-02-19</td><td>NA</td><td>Zane   </td><td>Hodkiewicz </td><td>Boston   </td><td>Massachusetts</td><td>M</td><td>white </td><td>nonhispanic</td><td>M</td></tr>\n",
       "\t<tr><td>8123d076-0886-9007-e956-d5864aa121a7</td><td>58-06-04</td><td>NA</td><td>Quinn  </td><td>Marquardt  </td><td>Quincy   </td><td>Massachusetts</td><td>M</td><td>white </td><td>nonhispanic</td><td>M</td></tr>\n",
       "\t<tr><td>770518e4-6133-648e-60c9-071eb2f0e2ce</td><td>28-12-25</td><td>17-09-29</td><td>Abel   </td><td>Smitham    </td><td>Boston   </td><td>Massachusetts</td><td>M</td><td>white </td><td>hispanic   </td><td>M</td></tr>\n",
       "\t<tr><td>f96addf5-81b9-0aab-7855-d208d3d352c5</td><td>28-12-25</td><td>14-02-23</td><td>Edwin  </td><td>Labadie    </td><td>Boston   </td><td>Massachusetts</td><td>M</td><td>white </td><td>hispanic   </td><td>M</td></tr>\n",
       "\t<tr><td>8e9650d1-788a-78f9-4a28-d08f7f95354a</td><td>28-12-25</td><td>NA</td><td>Frankie</td><td>Oberbrunner</td><td>Boston   </td><td>Massachusetts</td><td>M</td><td>white </td><td>hispanic   </td><td>M</td></tr>\n",
       "\t<tr><td>183df435-4190-060e-8f8e-bf63c572b266</td><td>57-11-08</td><td>NA</td><td>Eilene </td><td>Walsh      </td><td>Cambridge</td><td>Massachusetts</td><td>M</td><td>asian </td><td>nonhispanic</td><td>F</td></tr>\n",
       "\t<tr><td>720560d4-51da-c38c-ee90-c15935278df1</td><td>72-06-27</td><td>NA</td><td>Lowell </td><td>Price      </td><td>Quincy   </td><td>Massachusetts</td><td>M</td><td>white </td><td>nonhispanic</td><td>M</td></tr>\n",
       "\t<tr><td>217851b0-5f47-d376-18b9-0fe4ba77207e</td><td>54-03-06</td><td>NA</td><td>Adrian </td><td>Gleason    </td><td>Boston   </td><td>Massachusetts</td><td>S</td><td>black </td><td>hispanic   </td><td>M</td></tr>\n",
       "\t<tr><td>ff331e5c-ab16-e218-f39a-63e11de1ed75</td><td>27-07-10</td><td>NA</td><td>Eugene </td><td>Abernathy  </td><td>Boston   </td><td>Massachusetts</td><td>M</td><td>native</td><td>hispanic   </td><td>M</td></tr>\n",
       "</tbody>\n",
       "</table>\n"
      ],
      "text/latex": [
       "A tibble: 10 × 11\n",
       "\\begin{tabular}{lllllllllll}\n",
       " ID & BIRTHDATE & DEATHDATE & FIRST & LAST & CITY & STATE & MARITAL & RACE & ETHNICITY & GENDER\\\\\n",
       " <chr> & <date> & <date> & <chr> & <chr> & <chr> & <chr> & <chr> & <chr> & <chr> & <chr>\\\\\n",
       "\\hline\n",
       "\t 5605b66b-e92d-c16c-1b83-b8bf7040d51f & 77-03-19 & NA & Nikita  & Erdman      & Quincy    & Massachusetts & M & white  & nonhispanic & F\\\\\n",
       "\t 6e5ae27c-8038-7988-e2c0-25a103f01bfa & 40-02-19 & NA & Zane    & Hodkiewicz  & Boston    & Massachusetts & M & white  & nonhispanic & M\\\\\n",
       "\t 8123d076-0886-9007-e956-d5864aa121a7 & 58-06-04 & NA & Quinn   & Marquardt   & Quincy    & Massachusetts & M & white  & nonhispanic & M\\\\\n",
       "\t 770518e4-6133-648e-60c9-071eb2f0e2ce & 28-12-25 & 17-09-29 & Abel    & Smitham     & Boston    & Massachusetts & M & white  & hispanic    & M\\\\\n",
       "\t f96addf5-81b9-0aab-7855-d208d3d352c5 & 28-12-25 & 14-02-23 & Edwin   & Labadie     & Boston    & Massachusetts & M & white  & hispanic    & M\\\\\n",
       "\t 8e9650d1-788a-78f9-4a28-d08f7f95354a & 28-12-25 & NA & Frankie & Oberbrunner & Boston    & Massachusetts & M & white  & hispanic    & M\\\\\n",
       "\t 183df435-4190-060e-8f8e-bf63c572b266 & 57-11-08 & NA & Eilene  & Walsh       & Cambridge & Massachusetts & M & asian  & nonhispanic & F\\\\\n",
       "\t 720560d4-51da-c38c-ee90-c15935278df1 & 72-06-27 & NA & Lowell  & Price       & Quincy    & Massachusetts & M & white  & nonhispanic & M\\\\\n",
       "\t 217851b0-5f47-d376-18b9-0fe4ba77207e & 54-03-06 & NA & Adrian  & Gleason     & Boston    & Massachusetts & S & black  & hispanic    & M\\\\\n",
       "\t ff331e5c-ab16-e218-f39a-63e11de1ed75 & 27-07-10 & NA & Eugene  & Abernathy   & Boston    & Massachusetts & M & native & hispanic    & M\\\\\n",
       "\\end{tabular}\n"
      ],
      "text/markdown": [
       "\n",
       "A tibble: 10 × 11\n",
       "\n",
       "| ID &lt;chr&gt; | BIRTHDATE &lt;date&gt; | DEATHDATE &lt;date&gt; | FIRST &lt;chr&gt; | LAST &lt;chr&gt; | CITY &lt;chr&gt; | STATE &lt;chr&gt; | MARITAL &lt;chr&gt; | RACE &lt;chr&gt; | ETHNICITY &lt;chr&gt; | GENDER &lt;chr&gt; |\n",
       "|---|---|---|---|---|---|---|---|---|---|---|\n",
       "| 5605b66b-e92d-c16c-1b83-b8bf7040d51f | 77-03-19 | NA | Nikita  | Erdman      | Quincy    | Massachusetts | M | white  | nonhispanic | F |\n",
       "| 6e5ae27c-8038-7988-e2c0-25a103f01bfa | 40-02-19 | NA | Zane    | Hodkiewicz  | Boston    | Massachusetts | M | white  | nonhispanic | M |\n",
       "| 8123d076-0886-9007-e956-d5864aa121a7 | 58-06-04 | NA | Quinn   | Marquardt   | Quincy    | Massachusetts | M | white  | nonhispanic | M |\n",
       "| 770518e4-6133-648e-60c9-071eb2f0e2ce | 28-12-25 | 17-09-29 | Abel    | Smitham     | Boston    | Massachusetts | M | white  | hispanic    | M |\n",
       "| f96addf5-81b9-0aab-7855-d208d3d352c5 | 28-12-25 | 14-02-23 | Edwin   | Labadie     | Boston    | Massachusetts | M | white  | hispanic    | M |\n",
       "| 8e9650d1-788a-78f9-4a28-d08f7f95354a | 28-12-25 | NA | Frankie | Oberbrunner | Boston    | Massachusetts | M | white  | hispanic    | M |\n",
       "| 183df435-4190-060e-8f8e-bf63c572b266 | 57-11-08 | NA | Eilene  | Walsh       | Cambridge | Massachusetts | M | asian  | nonhispanic | F |\n",
       "| 720560d4-51da-c38c-ee90-c15935278df1 | 72-06-27 | NA | Lowell  | Price       | Quincy    | Massachusetts | M | white  | nonhispanic | M |\n",
       "| 217851b0-5f47-d376-18b9-0fe4ba77207e | 54-03-06 | NA | Adrian  | Gleason     | Boston    | Massachusetts | S | black  | hispanic    | M |\n",
       "| ff331e5c-ab16-e218-f39a-63e11de1ed75 | 27-07-10 | NA | Eugene  | Abernathy   | Boston    | Massachusetts | M | native | hispanic    | M |\n",
       "\n"
      ],
      "text/plain": [
       "   ID                                   BIRTHDATE DEATHDATE FIRST   LAST       \n",
       "1  5605b66b-e92d-c16c-1b83-b8bf7040d51f 77-03-19  <NA>      Nikita  Erdman     \n",
       "2  6e5ae27c-8038-7988-e2c0-25a103f01bfa 40-02-19  <NA>      Zane    Hodkiewicz \n",
       "3  8123d076-0886-9007-e956-d5864aa121a7 58-06-04  <NA>      Quinn   Marquardt  \n",
       "4  770518e4-6133-648e-60c9-071eb2f0e2ce 28-12-25  17-09-29  Abel    Smitham    \n",
       "5  f96addf5-81b9-0aab-7855-d208d3d352c5 28-12-25  14-02-23  Edwin   Labadie    \n",
       "6  8e9650d1-788a-78f9-4a28-d08f7f95354a 28-12-25  <NA>      Frankie Oberbrunner\n",
       "7  183df435-4190-060e-8f8e-bf63c572b266 57-11-08  <NA>      Eilene  Walsh      \n",
       "8  720560d4-51da-c38c-ee90-c15935278df1 72-06-27  <NA>      Lowell  Price      \n",
       "9  217851b0-5f47-d376-18b9-0fe4ba77207e 54-03-06  <NA>      Adrian  Gleason    \n",
       "10 ff331e5c-ab16-e218-f39a-63e11de1ed75 27-07-10  <NA>      Eugene  Abernathy  \n",
       "   CITY      STATE         MARITAL RACE   ETHNICITY   GENDER\n",
       "1  Quincy    Massachusetts M       white  nonhispanic F     \n",
       "2  Boston    Massachusetts M       white  nonhispanic M     \n",
       "3  Quincy    Massachusetts M       white  nonhispanic M     \n",
       "4  Boston    Massachusetts M       white  hispanic    M     \n",
       "5  Boston    Massachusetts M       white  hispanic    M     \n",
       "6  Boston    Massachusetts M       white  hispanic    M     \n",
       "7  Cambridge Massachusetts M       asian  nonhispanic F     \n",
       "8  Quincy    Massachusetts M       white  nonhispanic M     \n",
       "9  Boston    Massachusetts S       black  hispanic    M     \n",
       "10 Boston    Massachusetts M       native hispanic    M     "
      ]
     },
     "metadata": {},
     "output_type": "display_data"
    }
   ],
   "source": [
    "head (patients, 10)"
   ]
  },
  {
   "cell_type": "markdown",
   "id": "c6f65807",
   "metadata": {},
   "source": [
    "### Question 9\n",
    "Using a for statement to loop through the categorical variables (excluding name and ID), print the counts of each unique value in descending order, using the mdpre() function for formatting."
   ]
  },
  {
   "cell_type": "code",
   "execution_count": 16,
   "id": "5f40eb36-fd4e-4cd0-bfb1-1c1261132c35",
   "metadata": {},
   "outputs": [
    {
     "name": "stdout",
     "output_type": "stream",
     "text": [
      "\n",
      "25-11-17 27-04-22 29-01-28 29-05-15 36-01-12 25-08-10 25-11-16 26-08-07 \n",
      "       4        4        4        4        4        3        3        3 \n",
      "27-02-05 28-11-04 28-12-25 30-11-03 33-08-24 22-05-31 23-09-22 25-01-15 \n",
      "       3        3        3        3        3        2        2        2 \n",
      "25-02-09 25-05-10 25-06-01 25-11-20 26-07-14 26-12-27 27-06-04 27-09-08 \n",
      "       2        2        2        2        2        2        2        2 \n",
      "27-10-16 29-06-30 29-10-14 30-04-25 30-12-14 31-02-27 31-05-04 32-09-12 \n",
      "       2        2        2        2        2        2        2        2 \n",
      "32-11-06 33-05-23 33-08-13 33-09-02 34-10-28 35-02-15 35-04-16 35-06-25 \n",
      "       2        2        2        2        2        2        2        2 \n",
      "36-02-07 36-06-11 36-06-26 36-11-08 37-09-04 38-02-26 39-07-05 39-09-23 \n",
      "       2        2        2        2        2        2        2        2 \n",
      "41-12-18 42-05-18 42-06-18 42-08-03 46-01-09 46-08-05 48-03-05 50-12-23 \n",
      "       2        2        2        2        2        2        2        2 \n",
      "51-03-01 51-05-03 52-04-01 52-11-02 54-01-14 54-08-26 57-01-19 58-06-29 \n",
      "       2        2        2        2        2        2        2        2 \n",
      "60-09-13 63-09-24 64-01-05 64-07-01 66-11-09 72-04-25 73-10-28 73-11-17 \n",
      "       2        2        2        2        2        2        2        2 \n",
      "76-12-11 77-01-10 82-08-09 84-06-14 22-03-24 22-03-30 22-04-13 22-04-15 \n",
      "       2        2        2        2        1        1        1        1 \n",
      "22-06-18 22-08-12 22-10-09 22-10-13 22-12-06 22-12-15 23-01-03 23-01-13 \n",
      "       1        1        1        1        1        1        1        1 \n",
      "23-01-18 23-01-30 23-02-01 23-02-14 23-02-19 23-03-12 23-03-16 23-04-11 \n",
      "       1        1        1        1        1        1        1        1 \n",
      "23-05-21 23-06-21 23-07-24 23-08-08 23-09-07 23-09-25 23-09-26 23-10-03 \n",
      "       1        1        1        1        1        1        1        1 \n",
      "23-10-06 23-11-10 23-12-07 24-01-08 24-01-13 24-01-23 24-02-23 24-03-15 \n",
      "       1        1        1        1        1        1        1        1 \n",
      "24-04-13 24-06-11 24-06-21 24-06-30 24-07-19 24-07-23 24-08-31 24-09-17 \n",
      "       1        1        1        1        1        1        1        1 \n",
      "24-10-07 24-10-25 24-11-19 24-12-08 24-12-13 24-12-18 25-01-28 25-03-11 \n",
      "       1        1        1        1        1        1        1        1 \n",
      "25-05-04 25-08-12 26-05-28 26-07-11 26-07-19 26-08-05 26-08-24 26-08-27 \n",
      "       1        1        1        1        1        1        1        1 \n",
      "26-09-17 26-09-27 26-10-18 26-11-10 26-11-18 26-11-20 26-11-23 27-02-04 \n",
      "       1        1        1        1        1        1        1        1 \n",
      "27-03-03 27-03-05 27-04-06 27-04-16 27-04-20 27-04-27 27-05-14 27-07-10 \n",
      "       1        1        1        1        1        1        1        1 \n",
      "27-09-12 27-11-04 27-11-06 27-12-28 28-01-04 28-01-12 28-01-19 28-02-25 \n",
      "       1        1        1        1        1        1        1        1 \n",
      "28-03-03 28-03-18 28-03-20 28-03-22 28-03-28 28-04-09 28-05-14 28-07-03 \n",
      "       1        1        1        1        1        1        1        1 \n",
      "28-07-25 28-08-25 28-08-26 28-09-24 28-11-23 29-01-06 29-01-19 29-02-25 \n",
      "       1        1        1        1        1        1        1        1 \n",
      "29-04-01 29-06-02 29-06-10 29-07-05 29-07-07 29-08-23 29-08-28 29-09-18 \n",
      "       1        1        1        1        1        1        1        1 \n",
      "29-09-30 29-10-25 29-10-29 29-12-30 30-01-15 30-02-09 30-03-06 30-05-20 \n",
      "       1        1        1        1        1        1        1        1 \n",
      "30-05-24 30-07-24 30-08-17 30-09-07 30-09-20 30-10-12 30-10-14 30-10-31 \n",
      "       1        1        1        1        1        1        1        1 \n",
      "31-01-01 31-01-12 31-01-28 31-02-10 31-02-12 31-03-27 31-04-10 31-04-21 \n",
      "       1        1        1        1        1        1        1        1 \n",
      "31-06-01 31-06-22 31-07-05 31-08-26 31-09-05 31-10-21 31-12-04 31-12-13 \n",
      "       1        1        1        1        1        1        1        1 \n",
      "31-12-15 31-12-18 31-12-28 32-01-16 32-03-06 32-03-08 32-03-23 32-03-31 \n",
      "       1        1        1        1        1        1        1        1 \n",
      "32-05-25 32-06-14 32-06-17 32-07-11 32-07-15 32-09-03 32-09-07 32-09-17 \n",
      "       1        1        1        1        1        1        1        1 \n",
      "32-10-14 32-10-24 32-10-27 32-11-22 33-01-07 33-01-31 33-03-27 33-05-08 \n",
      "       1        1        1        1        1        1        1        1 \n",
      "33-05-10 33-05-15 33-07-01 33-07-14 33-09-12 33-10-28 33-11-04 33-11-25 \n",
      "       1        1        1        1        1        1        1        1 \n",
      "33-12-09 33-12-16 34-01-05 34-03-27 34-06-06 34-06-09 34-07-15 34-10-07 \n",
      "       1        1        1        1        1        1        1        1 \n",
      "34-12-24 35-01-16 35-01-20 35-01-21 35-02-03 35-02-20 35-03-04 35-03-11 \n",
      "       1        1        1        1        1        1        1        1 \n",
      "35-03-29 35-04-13 35-05-18 35-06-14 35-06-17 35-07-05 35-08-09 35-09-12 \n",
      "       1        1        1        1        1        1        1        1 \n",
      "35-09-25 35-10-01 35-10-10 35-10-16 35-11-03 35-11-10 36-02-18 36-04-01 \n",
      "       1        1        1        1        1        1        1        1 \n",
      "36-05-25 36-07-21 36-10-27 36-11-01 37-01-05 37-03-02 37-03-05 37-03-27 \n",
      "       1        1        1        1        1        1        1        1 \n",
      "37-08-25 37-10-09 37-12-25 37-12-30 38-01-02 38-03-26 38-04-24 38-07-05 \n",
      "       1        1        1        1        1        1        1        1 \n",
      "38-07-14 38-07-21 38-08-31 38-10-05 38-10-17 38-11-24 39-03-15 39-04-02 \n",
      "       1        1        1        1        1        1        1        1 \n",
      "39-05-07 39-05-16 39-06-02 39-09-08 39-09-21 39-09-28 39-10-18 39-10-24 \n",
      "       1        1        1        1        1        1        1        1 \n",
      "39-10-30 39-11-04 40-01-01 40-02-14 40-02-19 40-02-20 40-03-28 40-04-01 \n",
      "       1        1        1        1        1        1        1        1 \n",
      "40-04-10 40-05-13 40-06-04 40-07-06 40-07-23 40-09-11 40-10-13 40-10-16 \n",
      "       1        1        1        1        1        1        1        1 \n",
      "40-10-27 40-10-31 41-02-02 41-02-18 41-02-20 41-02-27 41-03-18 41-04-01 \n",
      "       1        1        1        1        1        1        1        1 \n",
      "41-04-07 41-04-25 41-04-28 41-05-09 41-05-10 41-06-19 41-08-04 41-08-31 \n",
      "       1        1        1        1        1        1        1        1 \n",
      "41-09-27 41-11-10 41-11-28 41-12-08 41-12-20 42-04-06 42-06-01 42-06-11 \n",
      "       1        1        1        1        1        1        1        1 \n",
      "42-06-16 42-07-27 42-08-27 42-11-09 43-04-13 43-04-18 43-05-27 43-07-03 \n",
      "       1        1        1        1        1        1        1        1 \n",
      "43-07-28 43-09-12 43-09-14 43-09-30 43-10-04 43-11-24 43-12-12 44-01-21 \n",
      "       1        1        1        1        1        1        1        1 \n",
      "44-02-21 44-03-08 44-04-14 44-06-22 44-07-22 44-08-10 44-09-12 44-10-01 \n",
      "       1        1        1        1        1        1        1        1 \n",
      "44-10-16 44-11-14 45-03-04 45-03-24 45-04-25 45-04-28 45-06-22 45-07-31 \n",
      "       1        1        1        1        1        1        1        1 \n",
      "45-08-26 45-09-03 45-09-10 45-10-15 45-11-12 45-12-06 45-12-13 45-12-27 \n",
      "       1        1        1        1        1        1        1        1 \n",
      "46-01-13 46-01-16 46-02-01 46-03-06 46-03-14 46-04-02 46-04-25 46-05-16 \n",
      "       1        1        1        1        1        1        1        1 \n",
      "46-06-06 46-06-22 46-08-21 46-09-12 47-01-02 47-02-04 47-02-07 47-03-30 \n",
      "       1        1        1        1        1        1        1        1 \n",
      "47-04-25 47-05-13 47-05-22 47-07-07 47-08-09 47-08-18 47-10-17 47-11-03 \n",
      "       1        1        1        1        1        1        1        1 \n",
      "47-11-11 47-11-25 47-12-10 48-02-28 48-03-28 48-04-05 48-05-30 48-08-21 \n",
      "       1        1        1        1        1        1        1        1 \n",
      "48-11-10 48-12-17 49-02-16 49-02-27 49-04-10 49-04-23 49-09-12 50-02-16 \n",
      "       1        1        1        1        1        1        1        1 \n",
      "50-04-05 50-04-14 50-04-29 50-06-15 50-07-28 50-08-19 50-11-19 50-12-26 \n",
      "       1        1        1        1        1        1        1        1 \n",
      "51-03-24 51-03-31 51-04-04 51-04-12 51-06-04 51-06-11 51-06-24 51-09-18 \n",
      "       1        1        1        1        1        1        1        1 \n",
      "51-09-24 51-11-22 52-01-15 52-01-23 52-02-22 52-02-25 52-04-05 52-05-17 \n",
      "       1        1        1        1        1        1        1        1 \n",
      "52-06-28 52-06-30 52-08-31 52-09-11 52-10-31 52-11-10 52-11-12 52-12-06 \n",
      "       1        1        1        1        1        1        1        1 \n",
      "52-12-08 53-03-14 53-03-18 53-04-04 53-04-17 53-04-21 53-05-03 53-06-06 \n",
      "       1        1        1        1        1        1        1        1 \n",
      "53-10-13 53-10-25 53-11-09 53-11-12 53-11-23 53-12-04 53-12-25 53-12-27 \n",
      "       1        1        1        1        1        1        1        1 \n",
      "54-02-03 54-03-06 54-03-27 54-04-14 54-05-01 54-07-17 54-07-23 54-09-25 \n",
      "       1        1        1        1        1        1        1        1 \n",
      "54-10-04 54-10-16 55-01-05 55-01-26 55-04-10 55-04-13 55-09-04 55-10-09 \n",
      "       1        1        1        1        1        1        1        1 \n",
      "55-10-11 55-12-04 55-12-13 56-01-19 56-01-30 56-02-12 56-03-13 56-03-18 \n",
      "       1        1        1        1        1        1        1        1 \n",
      "56-07-05 56-07-09 56-07-18 56-10-26 56-12-28 56-12-29 57-01-14 57-03-17 \n",
      "       1        1        1        1        1        1        1        1 \n",
      "57-06-28 57-07-21 57-08-21 57-10-14 57-11-08 57-11-15 57-12-27 58-02-16 \n",
      "       1        1        1        1        1        1        1        1 \n",
      "58-03-21 58-03-25 58-04-07 58-05-08 58-06-04 58-07-13 58-08-03 58-08-29 \n",
      "       1        1        1        1        1        1        1        1 \n",
      "58-11-10 58-11-12 59-01-12 59-02-14 59-02-24 59-03-04 59-05-13 59-06-08 \n",
      "       1        1        1        1        1        1        1        1 \n",
      "59-06-14 59-07-04 59-07-28 59-10-10 59-11-09 59-11-15 59-11-24 59-11-28 \n",
      "       1        1        1        1        1        1        1        1 \n",
      "59-12-02 60-01-18 60-02-20 60-03-17 60-03-19 60-03-25 60-06-18 60-07-26 \n",
      "       1        1        1        1        1        1        1        1 \n",
      "60-08-20 60-10-11 60-10-23 60-11-16 60-12-19 61-01-04 61-03-03 61-03-28 \n",
      "       1        1        1        1        1        1        1        1 \n",
      "61-03-30 61-06-05 61-06-17 61-07-07 61-08-06 61-10-28 62-02-12 62-02-17 \n",
      "       1        1        1        1        1        1        1        1 \n",
      "62-06-09 62-08-08 62-11-25 62-12-05 62-12-11 63-01-20 63-02-10 63-03-09 \n",
      "       1        1        1        1        1        1        1        1 \n",
      "63-05-01 63-05-08 63-08-15 63-08-27 63-11-20 64-03-15 64-04-12 64-04-22 \n",
      "       1        1        1        1        1        1        1        1 \n",
      "64-04-23 64-04-24 64-05-05 64-06-01 64-06-15 64-07-19 64-07-26 64-07-28 \n",
      "       1        1        1        1        1        1        1        1 \n",
      "64-08-21 64-09-16 64-10-06 64-10-15 65-02-25 65-04-22 65-05-07 65-05-15 \n",
      "       1        1        1        1        1        1        1        1 \n",
      "65-08-19 65-09-12 65-12-08 66-01-05 66-04-01 66-04-04 66-04-08 66-04-18 \n",
      "       1        1        1        1        1        1        1        1 \n",
      "66-06-01 66-08-18 66-09-23 66-09-25 66-10-20 66-11-11 66-11-21 66-11-29 \n",
      "       1        1        1        1        1        1        1        1 \n",
      "66-12-08 66-12-30 66-12-31 67-02-02 67-03-24 67-04-03 67-05-02 67-05-08 \n",
      "       1        1        1        1        1        1        1        1 \n",
      "67-06-14 67-07-21 67-08-20 67-09-06 67-10-22 67-11-21 68-01-08 68-01-27 \n",
      "       1        1        1        1        1        1        1        1 \n",
      "68-05-16 68-05-21 68-07-17 68-08-05 68-09-15 68-10-08 69-01-11 69-01-26 \n",
      "       1        1        1        1        1        1        1        1 \n",
      "69-02-10 69-02-14 69-02-17 69-03-21 69-05-06 69-05-15 69-07-12 69-11-20 \n",
      "       1        1        1        1        1        1        1        1 \n",
      "69-12-27 69-12-30 70-04-08 70-04-16 70-06-03 70-09-08 70-09-17 70-11-26 \n",
      "       1        1        1        1        1        1        1        1 \n",
      "70-12-02 71-01-26 71-01-30 71-03-31 71-05-10 71-05-16 71-06-19 71-07-05 \n",
      "       1        1        1        1        1        1        1        1 \n",
      "71-07-08 71-08-19 71-08-26 71-10-27 71-11-06 72-01-15 72-01-25 72-04-15 \n",
      "       1        1        1        1        1        1        1        1 \n",
      "72-06-10 72-06-27 72-06-29 72-07-30 72-10-24 73-01-06 73-01-24 73-02-16 \n",
      "       1        1        1        1        1        1        1        1 \n",
      "73-02-26 73-03-12 73-04-19 73-05-16 73-05-25 73-06-12 73-08-28 73-09-01 \n",
      "       1        1        1        1        1        1        1        1 \n",
      "73-09-09 74-01-20 74-01-30 74-04-21 74-04-22 74-04-27 74-05-12 74-06-19 \n",
      "       1        1        1        1        1        1        1        1 \n",
      "74-07-09 74-07-15 74-07-29 74-10-03 74-12-06 74-12-22 75-01-24 75-02-05 \n",
      "       1        1        1        1        1        1        1        1 \n",
      "75-02-22 75-03-13 75-04-29 75-05-07 75-05-20 75-05-31 75-06-27 75-07-27 \n",
      "       1        1        1        1        1        1        1        1 \n",
      "75-09-12 75-09-19 75-11-14 75-12-06 75-12-30 76-01-07 76-01-22 76-02-27 \n",
      "       1        1        1        1        1        1        1        1 \n",
      "76-04-04 76-04-10 76-05-18 76-05-26 76-08-01 76-08-18 76-09-02 76-10-13 \n",
      "       1        1        1        1        1        1        1        1 \n",
      "76-10-18 76-10-31 76-12-01 77-01-02 77-01-30 77-02-05 77-02-08 77-03-19 \n",
      "       1        1        1        1        1        1        1        1 \n",
      "77-04-05 77-04-19 77-04-29 77-05-16 77-05-28 77-06-29 77-07-23 77-07-31 \n",
      "       1        1        1        1        1        1        1        1 \n",
      "77-10-04 78-01-04 78-04-06 78-05-27 78-06-08 78-08-04 78-10-03 78-12-15 \n",
      "       1        1        1        1        1        1        1        1 \n",
      "78-12-17 79-01-31 79-05-07 79-06-16 79-06-24 79-07-14 79-08-29 79-09-17 \n",
      "       1        1        1        1        1        1        1        1 \n",
      "79-09-20 79-09-22 79-10-28 79-12-25 79-12-29 80-01-05 80-02-11 80-02-28 \n",
      "       1        1        1        1        1        1        1        1 \n",
      "80-03-08 80-03-14 80-04-01 80-08-10 80-09-23 80-11-12 80-11-16 80-11-19 \n",
      "       1        1        1        1        1        1        1        1 \n",
      "80-11-29 80-12-24 81-01-24 81-02-17 81-04-09 81-05-22 81-06-09 81-08-03 \n",
      "       1        1        1        1        1        1        1        1 \n",
      "81-08-05 81-09-26 81-10-08 81-10-26 81-10-29 82-03-02 82-04-11 82-06-08 \n",
      "       1        1        1        1        1        1        1        1 \n",
      "82-08-19 82-08-31 82-09-10 82-10-19 82-12-16 83-03-18 83-04-11 83-07-29 \n",
      "       1        1        1        1        1        1        1        1 \n",
      "83-10-19 83-11-01 83-11-02 84-01-27 84-03-22 84-05-28 84-07-16 84-07-24 \n",
      "       1        1        1        1        1        1        1        1 \n",
      "84-10-05 84-10-29 84-11-13 84-12-11 84-12-28 85-01-10 85-01-17 85-02-12 \n",
      "       1        1        1        1        1        1        1        1 \n",
      "85-02-27 85-03-05 85-03-22 85-09-12 85-09-16 85-12-19 85-12-28 86-01-02 \n",
      "       1        1        1        1        1        1        1        1 \n",
      "86-02-23 86-03-21 86-03-31 86-04-22 86-08-13 86-11-14 86-11-15 86-12-25 \n",
      "       1        1        1        1        1        1        1        1 \n",
      "87-03-04 87-05-13 87-05-18 87-07-03 87-09-19 87-10-23 87-10-26 87-11-23 \n",
      "       1        1        1        1        1        1        1        1 \n",
      "87-11-24 88-04-02 88-04-13 88-05-02 88-05-19 88-07-10 88-08-17 88-09-12 \n",
      "       1        1        1        1        1        1        1        1 \n",
      "88-09-17 88-10-05 88-11-13 88-12-08 89-02-15 89-03-16 89-07-14 90-01-06 \n",
      "       1        1        1        1        1        1        1        1 \n",
      "90-01-18 90-02-05 90-02-06 90-03-15 90-04-17 90-04-26 90-05-21 90-07-05 \n",
      "       1        1        1        1        1        1        1        1 \n",
      "90-08-07 90-09-22 90-10-26 90-12-12 90-12-13 91-01-05 91-02-24 91-04-09 \n",
      "       1        1        1        1        1        1        1        1 \n",
      "91-04-21 91-05-01 91-06-22 91-08-03 91-09-23 91-10-01 91-10-04 91-11-27 \n",
      "       1        1        1        1        1        1        1        1 \n",
      "\n",
      "12-01-26 14-10-19 16-01-31 17-09-29 19-07-31 21-01-05 11-02-03 11-02-17 \n",
      "       2        2        2        2        2        2        1        1 \n",
      "11-07-12 11-10-10 11-11-29 11-12-08 12-01-22 12-02-02 12-03-08 12-05-01 \n",
      "       1        1        1        1        1        1        1        1 \n",
      "12-05-15 12-07-03 12-07-11 12-09-29 12-10-17 12-11-22 12-12-09 12-12-23 \n",
      "       1        1        1        1        1        1        1        1 \n",
      "12-12-29 13-04-29 13-05-14 13-06-02 13-06-10 13-06-26 13-07-04 13-07-25 \n",
      "       1        1        1        1        1        1        1        1 \n",
      "13-08-29 13-10-27 13-11-12 13-11-28 13-12-11 14-01-13 14-01-14 14-02-11 \n",
      "       1        1        1        1        1        1        1        1 \n",
      "14-02-13 14-02-14 14-02-23 14-04-21 14-07-19 14-07-29 14-11-10 14-11-16 \n",
      "       1        1        1        1        1        1        1        1 \n",
      "14-11-27 14-12-21 15-02-02 15-02-19 15-03-31 15-04-30 15-05-05 15-07-29 \n",
      "       1        1        1        1        1        1        1        1 \n",
      "16-01-02 16-04-04 16-04-09 16-04-22 16-07-17 16-08-31 16-10-03 16-10-06 \n",
      "       1        1        1        1        1        1        1        1 \n",
      "16-10-21 16-11-06 16-12-17 16-12-30 17-01-19 17-02-04 17-02-13 17-03-01 \n",
      "       1        1        1        1        1        1        1        1 \n",
      "17-04-03 17-04-10 17-04-12 17-04-27 17-07-16 17-07-25 17-08-07 17-09-07 \n",
      "       1        1        1        1        1        1        1        1 \n",
      "17-09-19 17-09-20 17-12-16 18-02-18 18-03-06 18-03-29 18-04-06 18-04-08 \n",
      "       1        1        1        1        1        1        1        1 \n",
      "18-05-01 18-05-04 18-05-05 18-05-16 18-05-24 18-05-27 18-06-05 18-06-24 \n",
      "       1        1        1        1        1        1        1        1 \n",
      "18-07-14 18-07-21 18-08-17 18-09-25 18-10-05 18-10-31 18-12-17 18-12-28 \n",
      "       1        1        1        1        1        1        1        1 \n",
      "19-02-06 19-02-12 19-03-17 19-03-18 19-03-22 19-03-26 19-05-21 19-05-31 \n",
      "       1        1        1        1        1        1        1        1 \n",
      "19-08-22 19-08-28 19-09-23 19-10-06 19-10-28 19-11-08 19-11-25 19-11-30 \n",
      "       1        1        1        1        1        1        1        1 \n",
      "20-01-31 20-04-25 20-05-06 20-06-02 20-07-09 20-08-02 20-08-29 20-10-15 \n",
      "       1        1        1        1        1        1        1        1 \n",
      "20-10-27 20-11-15 20-11-28 20-12-07 20-12-09 21-01-02 21-01-04 21-01-13 \n",
      "       1        1        1        1        1        1        1        1 \n",
      "21-01-19 21-01-22 21-01-27 21-03-08 21-03-11 21-03-26 21-05-01 21-05-04 \n",
      "       1        1        1        1        1        1        1        1 \n",
      "21-05-15 21-10-17 21-12-26 22-01-27 \n",
      "       1        1        1        1 \n",
      "\n",
      "        Boston         Quincy      Cambridge         Revere        Chelsea \n",
      "           541             80             45             42             39 \n",
      "      Weymouth     Somerville        Hingham       Winthrop      Brookline \n",
      "            37             25             22             22             17 \n",
      "       Everett           Hull        Medford      Braintree       Cohasset \n",
      "            16             15             13             10             10 \n",
      "        Malden       Scituate         Newton       Stoneham North Scituate \n",
      "             8              8              6              5              3 \n",
      "       Reading        Belmont      Lynnfield        Melrose         Milton \n",
      "             2              1              1              1              1 \n",
      "       Norwell        Waltham      Watertown     Winchester \n",
      "             1              1              1              1 \n",
      "Massachusetts \n",
      "          974 \n",
      "\n",
      "   M    S Fine male \n",
      " 782  189    1    1 \n",
      "\n",
      "   white    black    asian    other hawaiian   native   asiann \n",
      "     680      163       90       16       13       11        1 \n",
      "\n",
      "nonhispanic    hispanic  nonhispani     hispani \n",
      "        781         190           2           1 \n",
      "\n",
      "     M      F female Female   Male \n",
      "   493    478      1      1      1 \n"
     ]
    }
   ],
   "source": [
    "cat_vars <- setdiff(names(patients), c(\"ID\", \"FIRST\", \"LAST\"))\n",
    "\n",
    "for (var in cat_vars){\n",
    "    mdpre(sort(table(patients[[var]]), decreasing = TRUE))\n",
    "}"
   ]
  },
  {
   "cell_type": "markdown",
   "id": "9c872f41",
   "metadata": {},
   "source": [
    "### Question 10\n",
    "If you see any weird values, get rid of the ones that don't make sense, and combine the ones that are formatted wrong. Don't forget ot check the dates! Print the new tables for categorical values, and print the date ranges."
   ]
  },
  {
   "cell_type": "code",
   "execution_count": 20,
   "id": "2b2c4bc2-d937-410b-9372-01b2f1a98f4f",
   "metadata": {},
   "outputs": [],
   "source": [
    "patients <- patients %>% \n",
    "    mutate(\n",
    "        MARITAL =na_if(MARITAL, \"Fine\"),\n",
    "        MARITAL =na_if(MARITAL, \"male\")\n",
    "        )"
   ]
  },
  {
   "cell_type": "code",
   "execution_count": 24,
   "id": "2a5e884b-4aa4-487d-96e1-3a6a21f3f5be",
   "metadata": {},
   "outputs": [],
   "source": [
    "patients <- patients %>%\n",
    "  mutate(\n",
    "    GENDER = case_when(\n",
    "      GENDER %in% c(\"Male\", \"male\")   ~ \"M\",\n",
    "      GENDER %in% c(\"Female\", \"female\") ~ \"F\",\n",
    "      TRUE ~ GENDER)\n",
    "      )\n"
   ]
  },
  {
   "cell_type": "code",
   "execution_count": 41,
   "id": "74e6ddca-9018-4ad6-af13-ce88221e301b",
   "metadata": {},
   "outputs": [],
   "source": [
    "patients <- patients %>%\n",
    "  mutate(\n",
    "    ETHNICITY = case_when(\n",
    "      ETHNICITY %in% c(\"Nonhispani\") ~ \"Nonhispanic\",\n",
    "      ETHNICITY %in% c(\"Hispani\") ~ \"Hispanic\",\n",
    "        ETHNICITY %in% c(\"asiann\") ~ \"asian\",\n",
    "      TRUE ~ ETHNICITY)\n",
    "      )"
   ]
  },
  {
   "cell_type": "markdown",
   "id": "b4c83785",
   "metadata": {},
   "source": [
    "### Question 11\n",
    "Make a histogram of the ages of patients by gender. "
   ]
  },
  {
   "cell_type": "code",
   "execution_count": null,
   "id": "b4f52ad5-2a89-413a-b0bd-15d396e87a3f",
   "metadata": {},
   "outputs": [],
   "source": []
  },
  {
   "cell_type": "markdown",
   "id": "e41b7170",
   "metadata": {},
   "source": [
    "### Question 12\n",
    "Make a scatterplot of birthdate by martial status."
   ]
  },
  {
   "cell_type": "code",
   "execution_count": null,
   "id": "b9399bf6-c2f0-4a9a-a6ec-f7bff2180e97",
   "metadata": {},
   "outputs": [],
   "source": []
  }
 ],
 "metadata": {
  "kernelspec": {
   "display_name": "R",
   "language": "R",
   "name": "ir"
  },
  "language_info": {
   "codemirror_mode": "r",
   "file_extension": ".r",
   "mimetype": "text/x-r-source",
   "name": "R",
   "pygments_lexer": "r",
   "version": "4.5.1"
  }
 },
 "nbformat": 4,
 "nbformat_minor": 5
}
