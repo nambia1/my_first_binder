{
 "cells": [
  {
   "cell_type": "markdown",
   "id": "766a4c53-5596-4e39-9082-8e97c8e59c41",
   "metadata": {},
   "source": [
    "# Homework 7\n",
    "This homework is based on the advanced Git lectures. "
   ]
  },
  {
   "cell_type": "markdown",
   "id": "bbb6e943-d49a-4d2e-81f3-59c2d1a3be31",
   "metadata": {},
   "source": [
    "## Question 1\n",
    "#### What is the holy trinity of Git? (Just name the parts.)"
   ]
  },
  {
   "cell_type": "code",
   "execution_count": null,
   "id": "839733a8-468e-433b-93d7-00e0fa7f8d6f",
   "metadata": {},
   "outputs": [],
   "source": [
    "The Head (The hirstory)\n",
    "The Stage (The staging area)\n",
    "The Tree (The working directory)"
   ]
  },
  {
   "cell_type": "markdown",
   "id": "47bc27c0-290e-4e94-a071-a37ff613a7c8",
   "metadata": {},
   "source": [
    "## Question 2\n",
    "#### Explain how patches relate to the idea of committing a change to the history of your code?"
   ]
  },
  {
   "cell_type": "code",
   "execution_count": null,
   "id": "9874a751-0bcb-46de-b87f-739c47907cdb",
   "metadata": {},
   "outputs": [],
   "source": [
    "Each commit is a patch that changes the history of the code"
   ]
  },
  {
   "cell_type": "markdown",
   "id": "9aa99e0b-8fbe-4ccc-a728-b39b1fda153c",
   "metadata": {},
   "source": [
    "## Question 3\n",
    "#### What is the difference between a branch and a fork?"
   ]
  },
  {
   "cell_type": "code",
   "execution_count": 1,
   "id": "cb2a6c8c-2dd8-4a28-a7e2-91b6639299b3",
   "metadata": {},
   "outputs": [],
   "source": [
    "#While a branch is a version of the same repository, which exists in the same repository, a fork is a doplicate of you repository at onother place."
   ]
  },
  {
   "cell_type": "markdown",
   "id": "c6ac98c7-e4ea-4274-a88d-398cb739fab9",
   "metadata": {},
   "source": [
    "## Question 4\n",
    "#### How are diff and patch related? What’s the difference?"
   ]
  },
  {
   "cell_type": "code",
   "execution_count": null,
   "id": "a3596bfb-a041-4f45-9033-8a0f7f6f9515",
   "metadata": {},
   "outputs": [],
   "source": [
    " While diff contains differences between two versions of code, patches applies all the changes made between two versions of code "
   ]
  },
  {
   "cell_type": "markdown",
   "id": "02988321-54d5-4086-a62f-d6f7a5961c22",
   "metadata": {},
   "source": [
    "## Question 5\n",
    "#### See the diagram below.\n",
    "```\n",
    "alice            *-*-*-*-d-e     \n",
    "bob              *-*-*-*-a-b-c\n",
    "origin/main      *-*-*-*-a-b-c\n",
    "```\n",
    "#### a) What part of the Git trininty does each line represent?\n",
    "#### b) What would the result be if Alice performed a rebase? Edit the diagram. What would she type in the terminal to rebase, then push?\n",
    "#### c) What would the result be if Alice performed a merge? Edit the diagram. What would she type in the terminal to merge, then push?\n",
    "#### d) Which would be the better option (rebase vs. merge)? Why?"
   ]
  },
  {
   "cell_type": "code",
   "execution_count": null,
   "id": "25a907b9-0dc3-40c7-bf09-43ef65ab0ed6",
   "metadata": {},
   "outputs": [],
   "source": [
    "#a) Alice represents the tree, which is the working directory. Bob Represents the Stage, which is the staging area which is also the same as the head and Origin/Main represents the head \n",
    "#b) If allice performed a rebase \n",
    "git pull\n",
    "git rebase origin/main\n",
    "git push \n",
    "alice *-*-*-*-a-b-c-d-e\n",
    "bob   *-*-*-*-a-b-c\n",
    "Origin/main *-*-*-*-a-b-c-d-e\n",
    "\n",
    "#c)If Alice performed a merge\n",
    "git merge origin/main\n",
    "git push \n",
    "alice   *-*-*-*-d-e-a-b-c\n",
    "bob     *-*-*-*-a-b-c\n",
    "Origin/main *-*-*-*-d-e-a-b-c\n",
    "\n",
    "#d) Rebases are always better because they pull any changes from other users to make sure the base version between the working directory and remote directory is the same before adding aby changes\n"
   ]
  },
  {
   "cell_type": "markdown",
   "id": "65b5eb8a-cee0-4a97-b89c-8746c37669ea",
   "metadata": {},
   "source": [
    "## Question 6\n",
    "#### Match the command/vocab word to the description.\n",
    "You can edit the table!\n",
    "\n",
    "| Command / Vocab     | Answer | Description |\n",
    "|---------------------|------------|------------|\n",
    "| git log          |  | A.  Gives project history |\n",
    "| git stash        |  | B.  Takes any changes that haven't been committed and puts them in a dust bin |\n",
    "| git blame        |  | C.  Shows who last modified each line of a file and in which commit |\n",
    "| git pull         |  | D.  Retrieves any commits on the remote branch that you don’t yet have locally and integrates them into your current branch |\n",
    "| git checkou      |  | E.  Moves something from the branch to the working copy |\n",
    "| git status       |  | F.  Lists which files are staged, unstaged, and untracked |\n",
    "| git show         |  | G.  Displays information about a specific commit |\n",
    "| git merge        |  | H.  Combines two branches together in a way that is not ideal for your collaborators |\n",
    "| git add          |  | I.  Adds changes from the working directory to the staging area |\n",
    "| git push         |  | J.  Pushes the new commits to the main branch |\n",
    "| git add -i       |  | K.  Interactive staging! |\n",
    "| git .gitignore   |  | L.  Text file that contains names of files Git should not track |\n",
    "| git commit       |  | M.  Saves file changes to the main branch |\n",
    "| git clone        |  | N.  Makes a copy of an existing repo at in a new directory at another location |\n",
    "| git diff         |  | O.  Compares current, unsaved changes to the main branch |\n",
    "| git rebase       |  | P.  Combines branches by moving commits onto the tip of another branch, creating a linear history |\n",
    "| git init         |  | Q. Creates a new git repository |"
   ]
  },
  {
   "cell_type": "markdown",
   "id": "36663f18-7e8a-4400-86ef-1cbda6b508c1",
   "metadata": {},
   "source": [
    "## Question 7\n",
    "#### Walk me through how you would do interactive staging.\n",
    "#### a) Firstly, what situation would interactive staging be useful in?\n",
    "#### b) What command(s) help you prepare for what you'll see while interactive staging? \n",
    "*Hint*: Check the TA notes.\n",
    "#### c) What git command would you use to start interactive staging?\n",
    "\n",
    "#### d) On the text-based interactive menu, what option do you use?\n",
    "\n",
    "#### e) After pressing that option, how do you select the file you want to stage?\n",
    "\n",
    "#### f) What option do you type if you do not want to stage a hunk?\n",
    "\n",
    "#### g) Once you get to a hunk you want to stage, what do you do?\n",
    "\n",
    "#### h) What if we have more hunks we want to stage?\n"
   ]
  },
  {
   "cell_type": "code",
   "execution_count": null,
   "id": "34ecf378-59a2-44a8-beeb-b9dc32c31c7e",
   "metadata": {},
   "outputs": [],
   "source": [
    "a)when you are working on a project, making line by line commits as you are coding can be difficult and distracting. Additionally, using interactive coding can be useful when you want to only make commits to parts of the code that you have changed. \n",
    "b) git status \n",
    "git diff\n",
    "c) git add -i\n",
    "d)we want to create a patch so we type \"p\" \n",
    "e)You will type the number of the file you would like to work in and press enter this will bring you into interactive staging area\n",
    "f) n\n",
    "g)git commit -m \"message\"\n",
    "h) git add- i and we repeat the process again \n"
   ]
  }
 ],
 "metadata": {
  "kernelspec": {
   "display_name": "Python 3 (ipykernel)",
   "language": "python",
   "name": "python3"
  },
  "language_info": {
   "codemirror_mode": {
    "name": "ipython",
    "version": 3
   },
   "file_extension": ".py",
   "mimetype": "text/x-python",
   "name": "python",
   "nbconvert_exporter": "python",
   "pygments_lexer": "ipython3",
   "version": "3.12.3"
  }
 },
 "nbformat": 4,
 "nbformat_minor": 5
}
